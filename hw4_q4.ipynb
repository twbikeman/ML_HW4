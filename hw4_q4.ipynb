{
 "cells": [
  {
   "cell_type": "code",
   "execution_count": 1,
   "id": "arranged-entrepreneur",
   "metadata": {},
   "outputs": [],
   "source": [
    "import numpy as np\n",
    "import matplotlib.pyplot as plt\n",
    "\n",
    "from hmmlearn import hmm"
   ]
  },
  {
   "cell_type": "code",
   "execution_count": 6,
   "id": "directed-break",
   "metadata": {},
   "outputs": [
    {
     "data": {
      "text/plain": [
       "['arr_0', 'arr_1', 'arr_2', 'arr_3']"
      ]
     },
     "execution_count": 6,
     "metadata": {},
     "output_type": "execute_result"
    }
   ],
   "source": [
    "zip = np.load('HMM_data.npz')\n",
    "X1_train = zip['arr_0'] # trainin sequence for 1st HMM\n",
    "X2_train = zip['arr_1'] # training sequence for 2nd HMM\n",
    "test_1 = zip['arr_2'] # two test sequences\n",
    "test_2 = zip['arr_3']\n"
   ]
  },
  {
   "cell_type": "code",
   "execution_count": 12,
   "id": "personalized-genius",
   "metadata": {},
   "outputs": [],
   "source": [
    "testHMM1 = hmm.MultinomialHMM(n_components=3,n_iter=100) # number of states is actually unknown, we assume we know it\n",
    "testHMM2 = hmm.MultinomialHMM(n_components=3,n_iter=100) # number of states is actually unknown, we assume we know it"
   ]
  },
  {
   "cell_type": "markdown",
   "id": "duplicate-individual",
   "metadata": {},
   "source": [
    "# Perform HMM training"
   ]
  },
  {
   "cell_type": "code",
   "execution_count": 13,
   "id": "respiratory-registration",
   "metadata": {},
   "outputs": [
    {
     "data": {
      "text/plain": [
       "MultinomialHMM(n_components=3, n_iter=100,\n",
       "               random_state=RandomState(MT19937) at 0x1BBCB134740)"
      ]
     },
     "execution_count": 13,
     "metadata": {},
     "output_type": "execute_result"
    }
   ],
   "source": [
    "testHMM1.fit(X1_train)\n"
   ]
  },
  {
   "cell_type": "code",
   "execution_count": 14,
   "id": "comparable-charles",
   "metadata": {},
   "outputs": [
    {
     "data": {
      "text/plain": [
       "MultinomialHMM(n_components=3, n_iter=100,\n",
       "               random_state=RandomState(MT19937) at 0x1BBCB134740)"
      ]
     },
     "execution_count": 14,
     "metadata": {},
     "output_type": "execute_result"
    }
   ],
   "source": [
    "testHMM2.fit(X2_train)"
   ]
  },
  {
   "cell_type": "markdown",
   "id": "static-differential",
   "metadata": {},
   "source": [
    "# Perform HMM test and print the class of each test sequence here ..."
   ]
  },
  {
   "cell_type": "code",
   "execution_count": 15,
   "id": "muslim-opposition",
   "metadata": {},
   "outputs": [
    {
     "data": {
      "text/plain": [
       "(-134.8971692117815,\n",
       " array([0, 1, 0, 1, 1, 0, 1, 0, 2, 0, 1, 0, 0, 1, 1, 1, 1, 0, 1, 0, 1, 1,\n",
       "        1, 0, 1, 1, 0, 0, 1, 0, 2, 0, 1, 0, 2, 0, 2, 0, 1, 1, 1, 1, 1, 0,\n",
       "        2, 0, 2, 0, 0, 1, 0, 1, 0, 2, 0, 1, 0, 1, 0, 0, 1, 1, 1, 1, 1, 1,\n",
       "        0, 1, 1, 1, 1, 1, 1, 0, 0, 1, 0, 0, 1, 0, 1, 0, 2, 0, 0, 1, 1, 1,\n",
       "        1, 0, 1, 1, 1, 0, 1, 1, 1, 1, 0, 1]))"
      ]
     },
     "execution_count": 15,
     "metadata": {},
     "output_type": "execute_result"
    }
   ],
   "source": [
    "testHMM1.decode(test_1)"
   ]
  },
  {
   "cell_type": "code",
   "execution_count": 16,
   "id": "nonprofit-instrumentation",
   "metadata": {},
   "outputs": [
    {
     "data": {
      "text/plain": [
       "(-128.32117814229773,\n",
       " array([1, 1, 1, 1, 0, 1, 0, 1, 1, 0, 0, 0, 0, 0, 1, 0, 0, 1, 0, 0, 0, 1,\n",
       "        0, 0, 1, 0, 0, 1, 1, 1, 1, 0, 1, 0, 0, 0, 0, 1, 1, 1, 1, 0, 0, 0,\n",
       "        1, 0, 1, 0, 1, 1, 1, 0, 0, 0, 0, 0, 0, 0, 0, 1, 0, 0, 0, 0, 1, 1,\n",
       "        0, 0, 0, 0, 1, 0, 1, 0, 0]))"
      ]
     },
     "execution_count": 16,
     "metadata": {},
     "output_type": "execute_result"
    }
   ],
   "source": [
    "testHMM2.decode(test_2)"
   ]
  },
  {
   "cell_type": "code",
   "execution_count": null,
   "id": "welsh-relaxation",
   "metadata": {},
   "outputs": [],
   "source": []
  }
 ],
 "metadata": {
  "kernelspec": {
   "display_name": "Python 3",
   "language": "python",
   "name": "python3"
  },
  "language_info": {
   "codemirror_mode": {
    "name": "ipython",
    "version": 3
   },
   "file_extension": ".py",
   "mimetype": "text/x-python",
   "name": "python",
   "nbconvert_exporter": "python",
   "pygments_lexer": "ipython3",
   "version": "3.9.1"
  }
 },
 "nbformat": 4,
 "nbformat_minor": 5
}
